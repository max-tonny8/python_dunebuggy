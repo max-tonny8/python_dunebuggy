{
 "cells": [
  {
   "cell_type": "code",
   "execution_count": 6,
   "metadata": {},
   "outputs": [],
   "source": [
    "from sandsnake import Dune\n",
    "from sandsnake.models.constants import Dataset\n",
    "from pypika import Query, Table, Field, Database\n"
   ]
  },
  {
   "cell_type": "code",
   "execution_count": null,
   "metadata": {},
   "outputs": [],
   "source": [
    "# Queries with default parameters\n",
    "dune = Dune()\n",
    "query = dune.fetch_query(83579)\n",
    "query.df.head()"
   ]
  },
  {
   "cell_type": "code",
   "execution_count": null,
   "metadata": {},
   "outputs": [],
   "source": [
    "query.info"
   ]
  },
  {
   "cell_type": "code",
   "execution_count": null,
   "metadata": {},
   "outputs": [],
   "source": [
    "query.parameters"
   ]
  },
  {
   "cell_type": "code",
   "execution_count": null,
   "metadata": {},
   "outputs": [],
   "source": [
    "old_params = query.parameters\n",
    "old_params[0].value = 'xBC4CA0EdA7647A8aB7C2061c2E118A18a936f13D'\n",
    "new_params = old_params\n",
    "custom_query = dune.fetch_query(83579, parameters=new_params)"
   ]
  },
  {
   "cell_type": "code",
   "execution_count": null,
   "metadata": {},
   "outputs": [],
   "source": [
    "custom_query.info"
   ]
  },
  {
   "cell_type": "code",
   "execution_count": null,
   "metadata": {},
   "outputs": [],
   "source": [
    "custom_query.df.head()"
   ]
  },
  {
   "cell_type": "code",
   "execution_count": 7,
   "metadata": {},
   "outputs": [],
   "source": [
    "dune = Dune(username='suds', password='^R7t2Sc&vriLbro^6')"
   ]
  },
  {
   "cell_type": "code",
   "execution_count": 8,
   "metadata": {},
   "outputs": [
    {
     "name": "stdout",
     "output_type": "stream",
     "text": [
      "96571\n"
     ]
    }
   ],
   "source": [
    "print(dune.user_id)"
   ]
  },
  {
   "cell_type": "code",
   "execution_count": 9,
   "metadata": {},
   "outputs": [],
   "source": [
    "query_string = \"select * from ethereum.transactions\\nLIMIT 100\\n\""
   ]
  },
  {
   "cell_type": "code",
   "execution_count": 17,
   "metadata": {},
   "outputs": [
    {
     "data": {
      "text/plain": [
       "'SELECT * FROM ethereum.transactions LIMIT 100'"
      ]
     },
     "execution_count": 17,
     "metadata": {},
     "output_type": "execute_result"
    }
   ],
   "source": [
    "ethereum = Database('ethereum')\n",
    "q = Query.from_(ethereum.transactions).select('*').limit(100)\n",
    "q_string = q.get_sql(quote_char=None)"
   ]
  },
  {
   "cell_type": "code",
   "execution_count": 18,
   "metadata": {},
   "outputs": [
    {
     "name": "stdout",
     "output_type": "stream",
     "text": [
      "{'data': {'insert_queries_one': {'id': 560101, 'dataset_id': 4, 'name': 'blah', 'description': '', 'query': 'SELECT * FROM ethereum.transactions LIMIT 100', 'private_to_group_id': None, 'is_temp': False, 'is_archived': False, 'created_at': '2022-04-01T20:13:29.166403+00:00', 'updated_at': '2022-04-01T20:13:29.166403+00:00', 'schedule': None, 'tags': None, 'parameters': [], '__typename': 'queries', 'visualizations': [], 'forked_query': None, 'user': {'id': 96571, 'name': 'suds', 'profile_image_url': None, '__typename': 'users'}, 'query_favorite_count_all': None, 'favorite_queries': []}}}\n"
     ]
    }
   ],
   "source": [
    "# TODO build sql into statements\n",
    "# TODO need to get different Query for solo queries, ie.e get result by JobID, inspect graphql\n",
    "created_query = dune.create_query(\"blah\", q_string, Dataset.ETHEREUM)\n",
    "                                  \n",
    "                                  "
   ]
  },
  {
   "cell_type": "code",
   "execution_count": 14,
   "metadata": {},
   "outputs": [
    {
     "data": {
      "text/html": [
       "<div>\n",
       "<style scoped>\n",
       "    .dataframe tbody tr th:only-of-type {\n",
       "        vertical-align: middle;\n",
       "    }\n",
       "\n",
       "    .dataframe tbody tr th {\n",
       "        vertical-align: top;\n",
       "    }\n",
       "\n",
       "    .dataframe thead th {\n",
       "        text-align: right;\n",
       "    }\n",
       "</style>\n",
       "<table border=\"1\" class=\"dataframe\">\n",
       "  <thead>\n",
       "    <tr style=\"text-align: right;\">\n",
       "      <th></th>\n",
       "      <th>access_list</th>\n",
       "      <th>block_hash</th>\n",
       "      <th>block_number</th>\n",
       "      <th>block_time</th>\n",
       "      <th>data</th>\n",
       "      <th>from</th>\n",
       "      <th>gas_limit</th>\n",
       "      <th>gas_price</th>\n",
       "      <th>gas_used</th>\n",
       "      <th>hash</th>\n",
       "      <th>index</th>\n",
       "      <th>max_fee_per_gas</th>\n",
       "      <th>max_priority_fee_per_gas</th>\n",
       "      <th>nonce</th>\n",
       "      <th>priority_fee_per_gas</th>\n",
       "      <th>success</th>\n",
       "      <th>to</th>\n",
       "      <th>type</th>\n",
       "      <th>value</th>\n",
       "    </tr>\n",
       "  </thead>\n",
       "  <tbody>\n",
       "    <tr>\n",
       "      <th>0</th>\n",
       "      <td>None</td>\n",
       "      <td>\\x887c665b0c52ccace092d817e984e2e828ef59079295...</td>\n",
       "      <td>47287</td>\n",
       "      <td>2015-08-07T08:50:01+00:00</td>\n",
       "      <td>None</td>\n",
       "      <td>\\xdb312d1d6a2ccc64dd94a3892928bac82b4e8c15</td>\n",
       "      <td>21000</td>\n",
       "      <td>100000000000</td>\n",
       "      <td>21000</td>\n",
       "      <td>\\xd3e6a2fc34066d20bb83020b1ee95b9dc7919fd242bd...</td>\n",
       "      <td>0</td>\n",
       "      <td>None</td>\n",
       "      <td>None</td>\n",
       "      <td>0</td>\n",
       "      <td>None</td>\n",
       "      <td>None</td>\n",
       "      <td>\\x34bb6978c5a1ad68777ad388c6787df53903430c</td>\n",
       "      <td>None</td>\n",
       "      <td>1000000000000000000</td>\n",
       "    </tr>\n",
       "    <tr>\n",
       "      <th>1</th>\n",
       "      <td>None</td>\n",
       "      <td>\\x4869e218b0a8f5784f16193ac66cbf35c4510ace0c9b...</td>\n",
       "      <td>48698</td>\n",
       "      <td>2015-08-07T15:29:53+00:00</td>\n",
       "      <td>None</td>\n",
       "      <td>\\x48040276e9c17ddbe5c8d2976245dcd0235efa43</td>\n",
       "      <td>90000</td>\n",
       "      <td>57550496008</td>\n",
       "      <td>21000</td>\n",
       "      <td>\\x8ba39f908731171fe96ee4e700e71d170ef8e651fac7...</td>\n",
       "      <td>0</td>\n",
       "      <td>None</td>\n",
       "      <td>None</td>\n",
       "      <td>0</td>\n",
       "      <td>None</td>\n",
       "      <td>None</td>\n",
       "      <td>\\xd8d0549637b65d58e7fb6cbdd11530b399d1ddac</td>\n",
       "      <td>None</td>\n",
       "      <td>100000000000000000000</td>\n",
       "    </tr>\n",
       "    <tr>\n",
       "      <th>2</th>\n",
       "      <td>None</td>\n",
       "      <td>\\xab9491b62b16bd928b281a83db82483584c22aeebc0d...</td>\n",
       "      <td>49051</td>\n",
       "      <td>2015-08-07T17:03:48+00:00</td>\n",
       "      <td>None</td>\n",
       "      <td>\\x8686578c4f7c75246f548299d6ffdac3b67b5cd1</td>\n",
       "      <td>90000</td>\n",
       "      <td>57178423039</td>\n",
       "      <td>21000</td>\n",
       "      <td>\\x57f8ba638903d6335e211eb470159587c73316788880...</td>\n",
       "      <td>0</td>\n",
       "      <td>None</td>\n",
       "      <td>None</td>\n",
       "      <td>0</td>\n",
       "      <td>None</td>\n",
       "      <td>None</td>\n",
       "      <td>\\x87abffa6b80f712c852a9558120ba6611f0b5e46</td>\n",
       "      <td>None</td>\n",
       "      <td>45150000000000000000</td>\n",
       "    </tr>\n",
       "    <tr>\n",
       "      <th>3</th>\n",
       "      <td>None</td>\n",
       "      <td>\\x1f9adc2190701ca3085b28252e4f1f467d980f763dad...</td>\n",
       "      <td>49174</td>\n",
       "      <td>2015-08-07T17:41:03+00:00</td>\n",
       "      <td>None</td>\n",
       "      <td>\\x18e4ce47483b53040adbab35172c01ef64506e0c</td>\n",
       "      <td>90000</td>\n",
       "      <td>58589751415</td>\n",
       "      <td>21000</td>\n",
       "      <td>\\xb8280da44f8d35011c3f431f7d1a82213477a4e742de...</td>\n",
       "      <td>2</td>\n",
       "      <td>None</td>\n",
       "      <td>None</td>\n",
       "      <td>0</td>\n",
       "      <td>None</td>\n",
       "      <td>None</td>\n",
       "      <td>\\xfb26ae2d3621829472555fbd11bb2a324b7a5c57</td>\n",
       "      <td>None</td>\n",
       "      <td>10000000000000000000</td>\n",
       "    </tr>\n",
       "    <tr>\n",
       "      <th>4</th>\n",
       "      <td>None</td>\n",
       "      <td>\\xf1f392fd197a149afe9f8843d7ba759d1a9f79d1ef62...</td>\n",
       "      <td>49938</td>\n",
       "      <td>2015-08-07T21:06:21+00:00</td>\n",
       "      <td>None</td>\n",
       "      <td>\\xc6bf5b6558f2ee21f2e43d9ff9b5408a0cb89413</td>\n",
       "      <td>90000</td>\n",
       "      <td>71214529679</td>\n",
       "      <td>21000</td>\n",
       "      <td>\\x538e1664c12c55287c98dc5dd248f60c642cbbbd7a18...</td>\n",
       "      <td>0</td>\n",
       "      <td>None</td>\n",
       "      <td>None</td>\n",
       "      <td>4</td>\n",
       "      <td>None</td>\n",
       "      <td>None</td>\n",
       "      <td>\\x33a3f479f6c3e7f91128348490d1f7e8d2a0fab5</td>\n",
       "      <td>None</td>\n",
       "      <td>5000000000000000000</td>\n",
       "    </tr>\n",
       "  </tbody>\n",
       "</table>\n",
       "</div>"
      ],
      "text/plain": [
       "  access_list                                         block_hash  \\\n",
       "0        None  \\x887c665b0c52ccace092d817e984e2e828ef59079295...   \n",
       "1        None  \\x4869e218b0a8f5784f16193ac66cbf35c4510ace0c9b...   \n",
       "2        None  \\xab9491b62b16bd928b281a83db82483584c22aeebc0d...   \n",
       "3        None  \\x1f9adc2190701ca3085b28252e4f1f467d980f763dad...   \n",
       "4        None  \\xf1f392fd197a149afe9f8843d7ba759d1a9f79d1ef62...   \n",
       "\n",
       "   block_number                 block_time  data  \\\n",
       "0         47287  2015-08-07T08:50:01+00:00  None   \n",
       "1         48698  2015-08-07T15:29:53+00:00  None   \n",
       "2         49051  2015-08-07T17:03:48+00:00  None   \n",
       "3         49174  2015-08-07T17:41:03+00:00  None   \n",
       "4         49938  2015-08-07T21:06:21+00:00  None   \n",
       "\n",
       "                                         from  gas_limit     gas_price  \\\n",
       "0  \\xdb312d1d6a2ccc64dd94a3892928bac82b4e8c15      21000  100000000000   \n",
       "1  \\x48040276e9c17ddbe5c8d2976245dcd0235efa43      90000   57550496008   \n",
       "2  \\x8686578c4f7c75246f548299d6ffdac3b67b5cd1      90000   57178423039   \n",
       "3  \\x18e4ce47483b53040adbab35172c01ef64506e0c      90000   58589751415   \n",
       "4  \\xc6bf5b6558f2ee21f2e43d9ff9b5408a0cb89413      90000   71214529679   \n",
       "\n",
       "   gas_used                                               hash  index  \\\n",
       "0     21000  \\xd3e6a2fc34066d20bb83020b1ee95b9dc7919fd242bd...      0   \n",
       "1     21000  \\x8ba39f908731171fe96ee4e700e71d170ef8e651fac7...      0   \n",
       "2     21000  \\x57f8ba638903d6335e211eb470159587c73316788880...      0   \n",
       "3     21000  \\xb8280da44f8d35011c3f431f7d1a82213477a4e742de...      2   \n",
       "4     21000  \\x538e1664c12c55287c98dc5dd248f60c642cbbbd7a18...      0   \n",
       "\n",
       "  max_fee_per_gas max_priority_fee_per_gas  nonce priority_fee_per_gas  \\\n",
       "0            None                     None      0                 None   \n",
       "1            None                     None      0                 None   \n",
       "2            None                     None      0                 None   \n",
       "3            None                     None      0                 None   \n",
       "4            None                     None      4                 None   \n",
       "\n",
       "  success                                          to  type  \\\n",
       "0    None  \\x34bb6978c5a1ad68777ad388c6787df53903430c  None   \n",
       "1    None  \\xd8d0549637b65d58e7fb6cbdd11530b399d1ddac  None   \n",
       "2    None  \\x87abffa6b80f712c852a9558120ba6611f0b5e46  None   \n",
       "3    None  \\xfb26ae2d3621829472555fbd11bb2a324b7a5c57  None   \n",
       "4    None  \\x33a3f479f6c3e7f91128348490d1f7e8d2a0fab5  None   \n",
       "\n",
       "                   value  \n",
       "0    1000000000000000000  \n",
       "1  100000000000000000000  \n",
       "2   45150000000000000000  \n",
       "3   10000000000000000000  \n",
       "4    5000000000000000000  "
      ]
     },
     "execution_count": 14,
     "metadata": {},
     "output_type": "execute_result"
    }
   ],
   "source": [
    "created_query.df.head()"
   ]
  },
  {
   "cell_type": "code",
   "execution_count": null,
   "metadata": {},
   "outputs": [],
   "source": [
    "created_query.info"
   ]
  },
  {
   "cell_type": "code",
   "execution_count": null,
   "metadata": {},
   "outputs": [],
   "source": []
  },
  {
   "cell_type": "code",
   "execution_count": null,
   "metadata": {},
   "outputs": [],
   "source": []
  }
 ],
 "metadata": {
  "kernelspec": {
   "display_name": "dev39",
   "language": "python",
   "name": "dev39"
  },
  "language_info": {
   "codemirror_mode": {
    "name": "ipython",
    "version": 3
   },
   "file_extension": ".py",
   "mimetype": "text/x-python",
   "name": "python",
   "nbconvert_exporter": "python",
   "pygments_lexer": "ipython3",
   "version": "3.9.4"
  }
 },
 "nbformat": 4,
 "nbformat_minor": 4
}
