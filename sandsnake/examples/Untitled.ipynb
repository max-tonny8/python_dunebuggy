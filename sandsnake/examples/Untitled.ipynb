{
 "cells": [
  {
   "cell_type": "code",
   "execution_count": null,
   "id": "95fc1f9e-ef2f-4eeb-a2e9-e35c21218580",
   "metadata": {},
   "outputs": [],
   "source": [
    "from enum import Enum\n"
   ]
  },
  {
   "cell_type": "code",
   "execution_count": null,
   "id": "994c1b16-a489-4966-a423-fb696f6a111b",
   "metadata": {},
   "outputs": [],
   "source": [
    "class QueryString(str, Enum):\n",
    "    FIND_QUERY_QUERY = \"query FindQuery($session_id: Int, $id: Int!, $favs_last_24h: Boolean! = false, $favs_last_7d: Boolean! = false, $favs_last_30d: Boolean! = false, $favs_all_time: Boolean! = true) {\\n  queries(where: {id: {_eq: $id}}) {\\n    ...Query\\n    favorite_queries(where: {user_id: {_eq: $session_id}}, limit: 1) {\\n      created_at\\n      __typename\\n    }\\n    __typename\\n  }\\n}\\n\\nfragment Query on queries {\\n  ...BaseQuery\\n  ...QueryVisualizations\\n  ...QueryForked\\n  ...QueryUsers\\n  ...QueryFavorites\\n  __typename\\n}\\n\\nfragment BaseQuery on queries {\\n  id\\n  dataset_id\\n  name\\n  description\\n  query\\n  private_to_group_id\\n  is_temp\\n  is_archived\\n  created_at\\n  updated_at\\n  schedule\\n  tags\\n  parameters\\n  __typename\\n}\\n\\nfragment QueryVisualizations on queries {\\n  visualizations {\\n    id\\n    type\\n    name\\n    options\\n    created_at\\n    __typename\\n  }\\n  __typename\\n}\\n\\nfragment QueryForked on queries {\\n  forked_query {\\n    id\\n    name\\n    user {\\n      name\\n      __typename\\n    }\\n    __typename\\n  }\\n  __typename\\n}\\n\\nfragment QueryUsers on queries {\\n  user {\\n    ...User\\n    __typename\\n  }\\n  __typename\\n}\\n\\nfragment User on users {\\n  id\\n  name\\n  profile_image_url\\n  __typename\\n}\\n\\nfragment QueryFavorites on queries {\\n  query_favorite_count_all @include(if: $favs_all_time) {\\n    favorite_count\\n    __typename\\n  }\\n  query_favorite_count_last_24h @include(if: $favs_last_24h) {\\n    favorite_count\\n    __typename\\n  }\\n  query_favorite_count_last_7d @include(if: $favs_last_7d) {\\n    favorite_count\\n    __typename\\n  }\\n  query_favorite_count_last_30d @include(if: $favs_last_30d) {\\n    favorite_count\\n    __typename\\n  }\\n  __typename\\n}\\n\"\n",
    "    GET_RESULT_QUERY = \"query GetResult($query_id: Int!, $parameters: [Parameter!]) {\\n  get_result(query_id: $query_id, parameters: $parameters) {\\n    job_id\\n    result_id\\n    __typename\\n  }\\n}\\n\"\n",
    "    FIND_RESULT_DATA_BY_RESULT_QUERY = \"query FindResultDataByResult($result_id: uuid!) {\\n  query_results(where: {id: {_eq: $result_id}}) {\\n    id\\n    job_id\\n    error\\n    runtime\\n    generated_at\\n    columns\\n    __typename\\n  }\\n  get_result_by_result_id(args: {want_result_id: $result_id}) {\\n    data\\n    __typename\\n  }\\n}\\n\"\n",
    "    UPSERT_QUERY_QUERY = \"mutation UpsertQuery($session_id: Int!, $object: queries_insert_input!, $on_conflict: queries_on_conflict!, $favs_last_24h: Boolean! = false, $favs_last_7d: Boolean! = false, $favs_last_30d: Boolean! = false, $favs_all_time: Boolean! = true) {\\n  insert_queries_one(object: $object, on_conflict: $on_conflict) {\\n    ...Query\\n    favorite_queries(where: {user_id: {_eq: $session_id}}, limit: 1) {\\n      created_at\\n      __typename\\n    }\\n    __typename\\n  }\\n}\\n\\nfragment Query on queries {\\n  ...BaseQuery\\n  ...QueryVisualizations\\n  ...QueryForked\\n  ...QueryUsers\\n  ...QueryFavorites\\n  __typename\\n}\\n\\nfragment BaseQuery on queries {\\n  id\\n  dataset_id\\n  name\\n  description\\n  query\\n  private_to_group_id\\n  is_temp\\n  is_archived\\n  created_at\\n  updated_at\\n  schedule\\n  tags\\n  parameters\\n  __typename\\n}\\n\\nfragment QueryVisualizations on queries {\\n  visualizations {\\n    id\\n    type\\n    name\\n    options\\n    created_at\\n    __typename\\n  }\\n  __typename\\n}\\n\\nfragment QueryForked on queries {\\n  forked_query {\\n    id\\n    name\\n    user {\\n      name\\n      __typename\\n    }\\n    __typename\\n  }\\n  __typename\\n}\\n\\nfragment QueryUsers on queries {\\n  user {\\n    ...User\\n    __typename\\n  }\\n  __typename\\n}\\n\\nfragment User on users {\\n  id\\n  name\\n  profile_image_url\\n  __typename\\n}\\n\\nfragment QueryFavorites on queries {\\n  query_favorite_count_all @include(if: $favs_all_time) {\\n    favorite_count\\n    __typename\\n  }\\n  query_favorite_count_last_24h @include(if: $favs_last_24h) {\\n    favorite_count\\n    __typename\\n  }\\n  query_favorite_count_last_7d @include(if: $favs_last_7d) {\\n    favorite_count\\n    __typename\\n  }\\n  query_favorite_count_last_30d @include(if: $favs_last_30d) {\\n    favorite_count\\n    __typename\\n  }\\n  __typename\\n}\\n\"\n",
    "    EXECUTE_QUERY_QUERY = \"mutation ExecuteQuery($query_id: Int!, $parameters: [Parameter!]!) {\\n  execute_query(query_id: $query_id, parameters: $parameters) {\\n    job_id\\n    __typename\\n  }\\n}\\n\"\n",
    "    FIND_SESSION_USER_QUERY = \"query FindSessionUser($sub: uuid!) {\\n  users(where: {private_info: {cognito_id: {_eq: $sub}}}) {\\n    ...SessionUser\\n    __typename\\n  }\\n}\\n\\nfragment SessionUser on users {\\n  id\\n  name\\n  profile_image_url\\n  private_info {\\n    stripeCustomerId: stripe_customer_id\\n    __typename\\n  }\\n  memberships {\\n    group {\\n      ...Group\\n      __typename\\n    }\\n    __typename\\n  }\\n  __typename\\n}\\n\\nfragment Group on groups {\\n  id\\n  type\\n  permissions\\n  __typename\\n}\\n\"\n",
    "    FIND_RESULT_DATA_BY_JOB_QUERY = \"query FindResultDataByJob($job_id: uuid!) {\\n  query_results(where: {job_id: {_eq: $job_id}}) {\\n    id\\n    job_id\\n    error\\n    runtime\\n    generated_at\\n    columns\\n    __typename\\n  }\\n  get_result_by_job_id(args: {want_job_id: $job_id}) {\\n    data\\n    __typename\\n  }\\n}\\n\"\n",
    "\n",
    "\n",
    "class QueryName(str, Enum):\n",
    "    FIND_SESSION_USER = \"FindSessionUser\"\n",
    "    FIND_QUERY = \"FindQuery\"\n",
    "    GET_RESULT = \"GetResult\"\n",
    "    FIND_RESULT_DATA_BY_JOB = \"FindResultDataByJob\"\n",
    "    FIND_RESULT_DATA_BY_RESULT = \"FindResultDataByResult\"\n",
    "    UPSERT_QUERY = \"UpsertQuery\"\n",
    "    EXECUTE_QUERY = \"ExecuteQuery\"\n",
    "\n",
    "    def get_query_string(self) -> QueryString:\n",
    "        return getattr(QueryString, f\"{self.name}_QUERY\").value"
   ]
  },
  {
   "cell_type": "code",
   "execution_count": null,
   "id": "d02f3175-9c6d-42b5-967d-9d0ecede63e0",
   "metadata": {},
   "outputs": [],
   "source": [
    "a = QueryName.FIND_QUERY"
   ]
  },
  {
   "cell_type": "code",
   "execution_count": null,
   "id": "ce4d5026-d2b4-43a9-86d5-74b3bb9ee1f1",
   "metadata": {},
   "outputs": [],
   "source": [
    "a"
   ]
  },
  {
   "cell_type": "code",
   "execution_count": null,
   "id": "f5d68900-2c91-4b91-8a73-90b7f972b434",
   "metadata": {},
   "outputs": [],
   "source": [
    "a.name"
   ]
  },
  {
   "cell_type": "code",
   "execution_count": null,
   "id": "1aceab2d-19dc-4d34-ab35-963718f1bfad",
   "metadata": {},
   "outputs": [],
   "source": [
    "a.get_query_string()"
   ]
  },
  {
   "cell_type": "code",
   "execution_count": null,
   "id": "ef7fca6c-19ae-4907-a98c-59ce4f87b631",
   "metadata": {},
   "outputs": [],
   "source": []
  }
 ],
 "metadata": {
  "kernelspec": {
   "display_name": "dev39",
   "language": "python",
   "name": "dev39"
  },
  "language_info": {
   "codemirror_mode": {
    "name": "ipython",
    "version": 3
   },
   "file_extension": ".py",
   "mimetype": "text/x-python",
   "name": "python",
   "nbconvert_exporter": "python",
   "pygments_lexer": "ipython3",
   "version": "3.9.4"
  }
 },
 "nbformat": 4,
 "nbformat_minor": 5
}
