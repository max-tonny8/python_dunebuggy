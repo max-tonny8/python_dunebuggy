{
 "cells": [
  {
   "cell_type": "markdown",
   "metadata": {},
   "source": [
    "# Dunebuggy\n",
    "---\n",
    "A lightweight (unofficial) Python SDK for Dune.xyz\n",
    "\n",
    "## Installation\n",
    "\n",
    "```sh\n",
    "pip install dunebuggy\n",
    "```"
   ]
  },
  {
   "cell_type": "markdown",
   "metadata": {},
   "source": [
    "## Getting started\n",
    "\n",
    "### Retrieving a public query\n",
    "\n",
    "To retrieve a query, all we'll need is the ```query_id``` for the public query we're interested in. In the below example we can take a look at the popular [\"Custom NFT Floor Tracker\" query by @smaroo](https://dune.xyz/queries/83579) (The ```query_id``` below can be found in the URL)."
   ]
  },
  {
   "cell_type": "code",
   "execution_count": 1,
   "metadata": {},
   "outputs": [
    {
     "data": {
      "text/html": [
       "<div>\n",
       "<style scoped>\n",
       "    .dataframe tbody tr th:only-of-type {\n",
       "        vertical-align: middle;\n",
       "    }\n",
       "\n",
       "    .dataframe tbody tr th {\n",
       "        vertical-align: top;\n",
       "    }\n",
       "\n",
       "    .dataframe thead th {\n",
       "        text-align: right;\n",
       "    }\n",
       "</style>\n",
       "<table border=\"1\" class=\"dataframe\">\n",
       "  <thead>\n",
       "    <tr style=\"text-align: right;\">\n",
       "      <th></th>\n",
       "      <th>Floor Price Ξ</th>\n",
       "      <th>Time Interval</th>\n",
       "      <th>Volume Ξ</th>\n",
       "    </tr>\n",
       "  </thead>\n",
       "  <tbody>\n",
       "    <tr>\n",
       "      <th>0</th>\n",
       "      <td>0.0700</td>\n",
       "      <td>2021-06-30T00:00:00+00:00</td>\n",
       "      <td>436.250420</td>\n",
       "    </tr>\n",
       "    <tr>\n",
       "      <th>1</th>\n",
       "      <td>0.0670</td>\n",
       "      <td>2021-07-01T00:00:00+00:00</td>\n",
       "      <td>234.422398</td>\n",
       "    </tr>\n",
       "    <tr>\n",
       "      <th>2</th>\n",
       "      <td>0.0553</td>\n",
       "      <td>2021-07-02T00:00:00+00:00</td>\n",
       "      <td>126.205068</td>\n",
       "    </tr>\n",
       "    <tr>\n",
       "      <th>3</th>\n",
       "      <td>0.0530</td>\n",
       "      <td>2021-07-03T00:00:00+00:00</td>\n",
       "      <td>41.314672</td>\n",
       "    </tr>\n",
       "    <tr>\n",
       "      <th>4</th>\n",
       "      <td>0.0490</td>\n",
       "      <td>2021-07-04T00:00:00+00:00</td>\n",
       "      <td>40.311550</td>\n",
       "    </tr>\n",
       "  </tbody>\n",
       "</table>\n",
       "</div>"
      ],
      "text/plain": [
       "   Floor Price Ξ              Time Interval    Volume Ξ\n",
       "0         0.0700  2021-06-30T00:00:00+00:00  436.250420\n",
       "1         0.0670  2021-07-01T00:00:00+00:00  234.422398\n",
       "2         0.0553  2021-07-02T00:00:00+00:00  126.205068\n",
       "3         0.0530  2021-07-03T00:00:00+00:00   41.314672\n",
       "4         0.0490  2021-07-04T00:00:00+00:00   40.311550"
      ]
     },
     "execution_count": 1,
     "metadata": {},
     "output_type": "execute_result"
    }
   ],
   "source": [
    "from dunebuggy import Dune\n",
    "\n",
    "dune = Dune()\n",
    "query = dune.fetch_query(83579)\n",
    "query.df.head()\n"
   ]
  },
  {
   "cell_type": "markdown",
   "metadata": {},
   "source": [
    "We can also take a look at some basic information about the returned query with ```query.info```"
   ]
  },
  {
   "cell_type": "code",
   "execution_count": null,
   "metadata": {},
   "outputs": [],
   "source": [
    "query.info"
   ]
  },
  {
   "cell_type": "markdown",
   "metadata": {},
   "source": [
    "Some queries in Dune are \"parameterized\", meaning that the author exposes certain variables for the user to enter custom values. The example query (83579) happens to be parameterized, we can verify this by inspecting ```query.parameters```"
   ]
  },
  {
   "cell_type": "code",
   "execution_count": null,
   "metadata": {},
   "outputs": [],
   "source": [
    "query.parameters"
   ]
  },
  {
   "cell_type": "markdown",
   "metadata": {},
   "source": [
    "If you'd like to run this query with your own custom parameters, all we'll need to do is take the parameters from from the initial query, change the values to what we want, and re-fetch the query. You can also create a fresh set of parameters by importing ```QueryParameter``` from ```dunebuggy.models.query``` and adding the values to the new object.\n",
    "\n",
    "Below we are replacing the old NFT contract address param with a new one ([the contract address for BAYC](https://etherscan.io/address/0xbc4ca0eda7647a8ab7c2061c2e118a18a936f13d))"
   ]
  },
  {
   "cell_type": "code",
   "execution_count": null,
   "metadata": {},
   "outputs": [],
   "source": [
    "old_params = query.parameters\n",
    "\n",
    "# Replacing with contract address for BAYC\n",
    "old_params[0].value = 'xBC4CA0EdA7647A8aB7C2061c2E118A18a936f13D'\n",
    "new_params = old_params\n",
    "print(new_params)\n",
    "custom_query = dune.fetch_query(83579, parameters=new_params)\n",
    "\n",
    "custom_query.info"
   ]
  },
  {
   "cell_type": "markdown",
   "metadata": {},
   "source": [
    "Note that the ```result_id``` and ```job_id``` here are different, this is because we ran the query with our changed params"
   ]
  },
  {
   "cell_type": "code",
   "execution_count": null,
   "metadata": {},
   "outputs": [],
   "source": [
    "custom_query.parameters"
   ]
  },
  {
   "cell_type": "code",
   "execution_count": null,
   "metadata": {},
   "outputs": [],
   "source": [
    "custom_query.df.head()"
   ]
  },
  {
   "cell_type": "markdown",
   "metadata": {},
   "source": [
    "### Creating a new query\n",
    "\n",
    "Dunebuggy also allows you to create a new using an existing Dune.xyz account.You'll just need to pass in your username/password into the ```Dune``` object in order to login. After logging in, you should be able to retrieve your ```user_id```"
   ]
  },
  {
   "cell_type": "code",
   "execution_count": null,
   "metadata": {},
   "outputs": [],
   "source": [
    "import os \n",
    "\n",
    "username = os.environ.get('DUNE_USERNAME')\n",
    "password = os.environ.get('DUNE_PASSWORD')\n",
    "\n",
    "dune = Dune(username=username, password=password)\n",
    "dune.user_id"
   ]
  },
  {
   "cell_type": "markdown",
   "metadata": {},
   "source": [
    "We'll now need to construct a Dune SQL query. We can do this in two ways. The first being just creating a raw string SQL query like below"
   ]
  },
  {
   "cell_type": "code",
   "execution_count": null,
   "metadata": {},
   "outputs": [],
   "source": [
    "query_string = \"select * from ethereum.transactions\\nLIMIT 100\\n\""
   ]
  },
  {
   "cell_type": "markdown",
   "metadata": {},
   "source": [
    "Or, if we wanna get fancy, we could use the fantastic PyPika library to construct one in an ORM style"
   ]
  },
  {
   "cell_type": "code",
   "execution_count": null,
   "metadata": {},
   "outputs": [],
   "source": [
    "from pypika import Database, Query\n",
    "\n",
    "ethereum = Database('ethereum')\n",
    "q = Query.from_(ethereum.transactions).select('*').limit(100)\n",
    "query_string = q.get_sql(quote_char=None)\n",
    "query_string"
   ]
  },
  {
   "cell_type": "markdown",
   "metadata": {},
   "source": [
    "Dune requires us to specify an integer code (```Id```) for each of their support blockchain datasets. The currently supported datasets are the following:\n",
    "\n",
    "| Blockchain Dataset | Id |\n",
    "|--------------------|----|\n",
    "| ETHEREUM           | 4  |\n",
    "| XDAI               | 6  |\n",
    "| POLYGON            | 7  |\n",
    "| OPTIMISM_1         | 8  |\n",
    "| OPTIMISM_2         | 10 |\n",
    "| BINANCE            | 9  |\n",
    "| SOLANA             | 1  |\n",
    "\n",
    "We can access these integer codes via the ```DatasetId``` enum. To create a query now, all we need to do is pass in a ```name```, ```query_string``` and ```dataset_id```"
   ]
  },
  {
   "cell_type": "code",
   "execution_count": null,
   "metadata": {},
   "outputs": [],
   "source": [
    "from dunebuggy.models.constants import DatasetId\n",
    "created_query = dune.create_query(\"My Query's Name\", query_string, DatasetId.ETHEREUM)                          \n",
    "                       "
   ]
  },
  {
   "cell_type": "code",
   "execution_count": null,
   "metadata": {},
   "outputs": [],
   "source": [
    "created_query.df.head()"
   ]
  },
  {
   "cell_type": "markdown",
   "metadata": {},
   "source": [
    "### Saving to CSV\n",
    "\n",
    "To save a query to a CSV, we can take advantage of the ```to_csv``` method on our ```df```"
   ]
  },
  {
   "cell_type": "code",
   "execution_count": null,
   "metadata": {},
   "outputs": [],
   "source": [
    "created_query.df.to_csv('my_test_data.csv')"
   ]
  },
  {
   "cell_type": "code",
   "execution_count": null,
   "metadata": {},
   "outputs": [],
   "source": []
  }
 ],
 "metadata": {
  "kernelspec": {
   "display_name": "Python 3.10.4 ('dunebuggy_env')",
   "language": "python",
   "name": "python3"
  },
  "language_info": {
   "codemirror_mode": {
    "name": "ipython",
    "version": 3
   },
   "file_extension": ".py",
   "mimetype": "text/x-python",
   "name": "python",
   "nbconvert_exporter": "python",
   "pygments_lexer": "ipython3",
   "version": "3.10.4"
  },
  "vscode": {
   "interpreter": {
    "hash": "4570e4d8f5993729e118d15181934cf05ac529de860cec3d783443866a505300"
   }
  }
 },
 "nbformat": 4,
 "nbformat_minor": 4
}
