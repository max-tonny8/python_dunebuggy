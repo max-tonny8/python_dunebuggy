{
 "cells": [
  {
   "cell_type": "markdown",
   "metadata": {},
   "source": [
    "# Dunebuggy\n",
    "---\n",
    "A lightweight (unofficial) Python SDK for Dune.xyz\n",
    "\n",
    "## Installation\n",
    "\n",
    "```sh\n",
    "pip install dunebuggy\n",
    "```"
   ]
  },
  {
   "cell_type": "markdown",
   "metadata": {},
   "source": [
    "## Getting started\n",
    "\n",
    "### Retrieving a public query\n",
    "\n",
    "To retrieve a query, all we'll need is the ```query_id``` for the public query we're interested in. In the below example we can take a look at the popular [\"Custom NFT Floor Tracker\" query by @smaroo](https://dune.xyz/queries/83579) (The ```query_id``` below can be found in the URL)."
   ]
  },
  {
   "cell_type": "code",
   "execution_count": 3,
   "metadata": {},
   "outputs": [
    {
     "data": {
      "text/html": [
       "<div>\n",
       "<style scoped>\n",
       "    .dataframe tbody tr th:only-of-type {\n",
       "        vertical-align: middle;\n",
       "    }\n",
       "\n",
       "    .dataframe tbody tr th {\n",
       "        vertical-align: top;\n",
       "    }\n",
       "\n",
       "    .dataframe thead th {\n",
       "        text-align: right;\n",
       "    }\n",
       "</style>\n",
       "<table border=\"1\" class=\"dataframe\">\n",
       "  <thead>\n",
       "    <tr style=\"text-align: right;\">\n",
       "      <th></th>\n",
       "      <th>Floor (Approx)</th>\n",
       "      <th>Time Interval</th>\n",
       "    </tr>\n",
       "  </thead>\n",
       "  <tbody>\n",
       "    <tr>\n",
       "      <th>0</th>\n",
       "      <td>0.122649</td>\n",
       "      <td>2021-06-01T00:00:00+00:00</td>\n",
       "    </tr>\n",
       "    <tr>\n",
       "      <th>1</th>\n",
       "      <td>0.130000</td>\n",
       "      <td>2021-06-02T00:00:00+00:00</td>\n",
       "    </tr>\n",
       "    <tr>\n",
       "      <th>2</th>\n",
       "      <td>0.193455</td>\n",
       "      <td>2021-06-03T00:00:00+00:00</td>\n",
       "    </tr>\n",
       "    <tr>\n",
       "      <th>3</th>\n",
       "      <td>0.189000</td>\n",
       "      <td>2021-06-04T00:00:00+00:00</td>\n",
       "    </tr>\n",
       "    <tr>\n",
       "      <th>4</th>\n",
       "      <td>0.189930</td>\n",
       "      <td>2021-06-05T00:00:00+00:00</td>\n",
       "    </tr>\n",
       "  </tbody>\n",
       "</table>\n",
       "</div>"
      ],
      "text/plain": [
       "   Floor (Approx)              Time Interval\n",
       "0        0.122649  2021-06-01T00:00:00+00:00\n",
       "1        0.130000  2021-06-02T00:00:00+00:00\n",
       "2        0.193455  2021-06-03T00:00:00+00:00\n",
       "3        0.189000  2021-06-04T00:00:00+00:00\n",
       "4        0.189930  2021-06-05T00:00:00+00:00"
      ]
     },
     "execution_count": 3,
     "metadata": {},
     "output_type": "execute_result"
    }
   ],
   "source": [
    "from dunebuggy import Dune\n",
    "\n",
    "dune = Dune()\n",
    "query = dune.fetch_query(83579)\n",
    "query.df.head()"
   ]
  },
  {
   "cell_type": "markdown",
   "metadata": {},
   "source": [
    "We can also take a look at some basic information about the returned query with ```query.info```"
   ]
  },
  {
   "cell_type": "code",
   "execution_count": 21,
   "metadata": {},
   "outputs": [
    {
     "data": {
      "text/plain": [
       "{'name': 'Custom NFT Floor Tracker',\n",
       " 'author': '@smaroo',\n",
       " 'length': 264,\n",
       " 'query_id': 83579,\n",
       " 'result_id': UUID('e5aef8a0-1453-44d1-a27b-f576ea2b3ba2'),\n",
       " 'job_id': UUID('ec680fa9-217f-44c5-b223-56730cd07473'),\n",
       " 'columns': ['Time Interval', 'Floor (Approx)']}"
      ]
     },
     "execution_count": 21,
     "metadata": {},
     "output_type": "execute_result"
    }
   ],
   "source": [
    "query.info"
   ]
  },
  {
   "cell_type": "markdown",
   "metadata": {},
   "source": [
    "Some queries in Dune are \"parameterized\", meaning that the author exposes certain variables for the user to enter custom values. The example query (83579) happens to be parameterized, we can verify this by inspecting ```query.parameters```"
   ]
  },
  {
   "cell_type": "code",
   "execution_count": 22,
   "metadata": {},
   "outputs": [
    {
     "data": {
      "text/plain": [
       "[QueryParameter(key='Enter NFT Contract Address', type='text', value='xc3f733ca98e0dad0386979eb96fb1722a1a05e69', enumOptions=None),\n",
       " QueryParameter(key='Floor Time Interval', type='enum', value='Day', enumOptions=['Day', 'Hour']),\n",
       " QueryParameter(key='Start Date', type='datetime', value='2021-06-01 00:00:00', enumOptions=None)]"
      ]
     },
     "execution_count": 22,
     "metadata": {},
     "output_type": "execute_result"
    }
   ],
   "source": [
    "query.parameters"
   ]
  },
  {
   "cell_type": "markdown",
   "metadata": {},
   "source": [
    "If you'd like to run this query with your own custom parameters, all we'll need to do is take the parameters from from the initial query, change the values to what we want, and re-fetch the query. You can also create a fresh set of parameters by importing ```QueryParameter``` from ```dunebuggy.models.query``` and adding the values to the new object.\n",
    "\n",
    "Below we are replacing the old NFT contract address param with a new one ([the contract address for BAYC](https://etherscan.io/address/0xbc4ca0eda7647a8ab7c2061c2e118a18a936f13d))"
   ]
  },
  {
   "cell_type": "code",
   "execution_count": 2,
   "metadata": {},
   "outputs": [
    {
     "data": {
      "text/plain": [
       "{'name': 'Custom NFT Floor Tracker',\n",
       " 'author': '@smaroo',\n",
       " 'length': 265,\n",
       " 'query_id': 83579,\n",
       " 'result_id': UUID('42a3c13d-5fbd-42bd-86c0-acc9adcdc803'),\n",
       " 'job_id': UUID('9051ebe7-862f-46d0-9999-b4645659ca56'),\n",
       " 'columns': ['Time Interval', 'Floor (Approx)']}"
      ]
     },
     "execution_count": 2,
     "metadata": {},
     "output_type": "execute_result"
    }
   ],
   "source": [
    "old_params = query.parameters\n",
    "\n",
    "# Replacing with contract address for BAYC\n",
    "old_params[0].value = 'xBC4CA0EdA7647A8aB7C2061c2E118A18a936f13D'\n",
    "new_params = old_params\n",
    "custom_query = dune.fetch_query(83579, parameters=new_params)\n",
    "\n",
    "custom_query.info"
   ]
  },
  {
   "cell_type": "markdown",
   "metadata": {},
   "source": [
    "Note that the ```result_id``` and ```job_id``` here are different, this is because we ran the query with our changed params"
   ]
  },
  {
   "cell_type": "code",
   "execution_count": 27,
   "metadata": {},
   "outputs": [
    {
     "data": {
      "text/plain": [
       "[QueryParameter(key='Enter NFT Contract Address', type='text', value='xc3f733ca98e0dad0386979eb96fb1722a1a05e69', enumOptions=None),\n",
       " QueryParameter(key='Floor Time Interval', type='enum', value='Day', enumOptions=['Day', 'Hour']),\n",
       " QueryParameter(key='Start Date', type='datetime', value='2021-06-01 00:00:00', enumOptions=None)]"
      ]
     },
     "execution_count": 27,
     "metadata": {},
     "output_type": "execute_result"
    }
   ],
   "source": [
    "custom_query.parameters"
   ]
  },
  {
   "cell_type": "code",
   "execution_count": 28,
   "metadata": {},
   "outputs": [
    {
     "data": {
      "text/html": [
       "<div>\n",
       "<style scoped>\n",
       "    .dataframe tbody tr th:only-of-type {\n",
       "        vertical-align: middle;\n",
       "    }\n",
       "\n",
       "    .dataframe tbody tr th {\n",
       "        vertical-align: top;\n",
       "    }\n",
       "\n",
       "    .dataframe thead th {\n",
       "        text-align: right;\n",
       "    }\n",
       "</style>\n",
       "<table border=\"1\" class=\"dataframe\">\n",
       "  <thead>\n",
       "    <tr style=\"text-align: right;\">\n",
       "      <th></th>\n",
       "      <th>Floor (Approx)</th>\n",
       "      <th>Time Interval</th>\n",
       "    </tr>\n",
       "  </thead>\n",
       "  <tbody>\n",
       "    <tr>\n",
       "      <th>0</th>\n",
       "      <td>0.8000</td>\n",
       "      <td>2021-06-01T00:00:00+00:00</td>\n",
       "    </tr>\n",
       "    <tr>\n",
       "      <th>1</th>\n",
       "      <td>0.8518</td>\n",
       "      <td>2021-06-02T00:00:00+00:00</td>\n",
       "    </tr>\n",
       "    <tr>\n",
       "      <th>2</th>\n",
       "      <td>0.8260</td>\n",
       "      <td>2021-06-03T00:00:00+00:00</td>\n",
       "    </tr>\n",
       "    <tr>\n",
       "      <th>3</th>\n",
       "      <td>0.7400</td>\n",
       "      <td>2021-06-04T00:00:00+00:00</td>\n",
       "    </tr>\n",
       "    <tr>\n",
       "      <th>4</th>\n",
       "      <td>0.8499</td>\n",
       "      <td>2021-06-05T00:00:00+00:00</td>\n",
       "    </tr>\n",
       "  </tbody>\n",
       "</table>\n",
       "</div>"
      ],
      "text/plain": [
       "   Floor (Approx)              Time Interval\n",
       "0          0.8000  2021-06-01T00:00:00+00:00\n",
       "1          0.8518  2021-06-02T00:00:00+00:00\n",
       "2          0.8260  2021-06-03T00:00:00+00:00\n",
       "3          0.7400  2021-06-04T00:00:00+00:00\n",
       "4          0.8499  2021-06-05T00:00:00+00:00"
      ]
     },
     "execution_count": 28,
     "metadata": {},
     "output_type": "execute_result"
    }
   ],
   "source": [
    "custom_query.df.head()"
   ]
  },
  {
   "cell_type": "markdown",
   "metadata": {},
   "source": [
    "### Creating a new query\n",
    "\n",
    "Dunebuggy also allows you to create a new using an existing Dune.xyz account.You'll just need to pass in your username/password into the ```Dune``` object in order to login. After logging in, you should be able to retrieve your ```user_id```"
   ]
  },
  {
   "cell_type": "code",
   "execution_count": 4,
   "metadata": {},
   "outputs": [
    {
     "data": {
      "text/plain": [
       "96571"
      ]
     },
     "execution_count": 4,
     "metadata": {},
     "output_type": "execute_result"
    }
   ],
   "source": [
    "import os \n",
    "\n",
    "username = os.environ.get('DUNE_USERNAME')\n",
    "password = os.environ.get('DUNE_PASSWORD')\n",
    "\n",
    "dune = Dune(username=username, password=password)\n",
    "dune.user_id"
   ]
  },
  {
   "cell_type": "markdown",
   "metadata": {},
   "source": [
    "We'll now need to construct a Dune SQL query. We can do this in two ways. The first being just creating a raw string SQL query like below"
   ]
  },
  {
   "cell_type": "code",
   "execution_count": 9,
   "metadata": {},
   "outputs": [],
   "source": [
    "query_string = \"select * from ethereum.transactions\\nLIMIT 100\\n\""
   ]
  },
  {
   "cell_type": "markdown",
   "metadata": {},
   "source": [
    "Or, if we wanna get fancy, we could use the fantastic PyPika library to construct one in an ORM style"
   ]
  },
  {
   "cell_type": "code",
   "execution_count": 6,
   "metadata": {},
   "outputs": [
    {
     "data": {
      "text/plain": [
       "'SELECT * FROM ethereum.transactions LIMIT 100'"
      ]
     },
     "execution_count": 6,
     "metadata": {},
     "output_type": "execute_result"
    }
   ],
   "source": [
    "from pypika import Database, Query\n",
    "\n",
    "ethereum = Database('ethereum')\n",
    "q = Query.from_(ethereum.transactions).select('*').limit(100)\n",
    "query_string = q.get_sql(quote_char=None)\n",
    "query_string"
   ]
  },
  {
   "cell_type": "markdown",
   "metadata": {},
   "source": [
    "Dune requires us to specify an integer code (```Id```) for each of their support blockchain datasets. The currently supported datasets are the following:\n",
    "\n",
    "| Blockchain Dataset | Id |\n",
    "|--------------------|----|\n",
    "| ETHEREUM           | 4  |\n",
    "| XDAI               | 6  |\n",
    "| POLYGON            | 7  |\n",
    "| OPTIMISM_1         | 8  |\n",
    "| OPTIMISM_2         | 10 |\n",
    "| BINANCE            | 9  |\n",
    "| SOLANA             | 1  |\n",
    "\n",
    "We can access these integer codes via the ```DatasetId``` enum. To create a query now, all we need to do is pass in a ```name```, ```query_string``` and ```dataset_id```"
   ]
  },
  {
   "cell_type": "code",
   "execution_count": 7,
   "metadata": {},
   "outputs": [],
   "source": [
    "from dunebuggy.models.constants import DatasetId\n",
    "created_query = dune.create_query(\"My Query's Name\", query_string, DatasetId.ETHEREUM)                          \n",
    "                       "
   ]
  },
  {
   "cell_type": "code",
   "execution_count": 8,
   "metadata": {},
   "outputs": [
    {
     "data": {
      "text/html": [
       "<div>\n",
       "<style scoped>\n",
       "    .dataframe tbody tr th:only-of-type {\n",
       "        vertical-align: middle;\n",
       "    }\n",
       "\n",
       "    .dataframe tbody tr th {\n",
       "        vertical-align: top;\n",
       "    }\n",
       "\n",
       "    .dataframe thead th {\n",
       "        text-align: right;\n",
       "    }\n",
       "</style>\n",
       "<table border=\"1\" class=\"dataframe\">\n",
       "  <thead>\n",
       "    <tr style=\"text-align: right;\">\n",
       "      <th></th>\n",
       "      <th>access_list</th>\n",
       "      <th>block_hash</th>\n",
       "      <th>block_number</th>\n",
       "      <th>block_time</th>\n",
       "      <th>data</th>\n",
       "      <th>from</th>\n",
       "      <th>gas_limit</th>\n",
       "      <th>gas_price</th>\n",
       "      <th>gas_used</th>\n",
       "      <th>hash</th>\n",
       "      <th>index</th>\n",
       "      <th>max_fee_per_gas</th>\n",
       "      <th>max_priority_fee_per_gas</th>\n",
       "      <th>nonce</th>\n",
       "      <th>priority_fee_per_gas</th>\n",
       "      <th>success</th>\n",
       "      <th>to</th>\n",
       "      <th>type</th>\n",
       "      <th>value</th>\n",
       "    </tr>\n",
       "  </thead>\n",
       "  <tbody>\n",
       "    <tr>\n",
       "      <th>0</th>\n",
       "      <td>None</td>\n",
       "      <td>\\x887c665b0c52ccace092d817e984e2e828ef59079295...</td>\n",
       "      <td>47287</td>\n",
       "      <td>2015-08-07T08:50:01+00:00</td>\n",
       "      <td>None</td>\n",
       "      <td>\\xdb312d1d6a2ccc64dd94a3892928bac82b4e8c15</td>\n",
       "      <td>21000</td>\n",
       "      <td>100000000000</td>\n",
       "      <td>21000</td>\n",
       "      <td>\\xd3e6a2fc34066d20bb83020b1ee95b9dc7919fd242bd...</td>\n",
       "      <td>0</td>\n",
       "      <td>None</td>\n",
       "      <td>None</td>\n",
       "      <td>0</td>\n",
       "      <td>None</td>\n",
       "      <td>None</td>\n",
       "      <td>\\x34bb6978c5a1ad68777ad388c6787df53903430c</td>\n",
       "      <td>None</td>\n",
       "      <td>1000000000000000000</td>\n",
       "    </tr>\n",
       "    <tr>\n",
       "      <th>1</th>\n",
       "      <td>None</td>\n",
       "      <td>\\x4869e218b0a8f5784f16193ac66cbf35c4510ace0c9b...</td>\n",
       "      <td>48698</td>\n",
       "      <td>2015-08-07T15:29:53+00:00</td>\n",
       "      <td>None</td>\n",
       "      <td>\\x48040276e9c17ddbe5c8d2976245dcd0235efa43</td>\n",
       "      <td>90000</td>\n",
       "      <td>57550496008</td>\n",
       "      <td>21000</td>\n",
       "      <td>\\x8ba39f908731171fe96ee4e700e71d170ef8e651fac7...</td>\n",
       "      <td>0</td>\n",
       "      <td>None</td>\n",
       "      <td>None</td>\n",
       "      <td>0</td>\n",
       "      <td>None</td>\n",
       "      <td>None</td>\n",
       "      <td>\\xd8d0549637b65d58e7fb6cbdd11530b399d1ddac</td>\n",
       "      <td>None</td>\n",
       "      <td>100000000000000000000</td>\n",
       "    </tr>\n",
       "    <tr>\n",
       "      <th>2</th>\n",
       "      <td>None</td>\n",
       "      <td>\\xab9491b62b16bd928b281a83db82483584c22aeebc0d...</td>\n",
       "      <td>49051</td>\n",
       "      <td>2015-08-07T17:03:48+00:00</td>\n",
       "      <td>None</td>\n",
       "      <td>\\x8686578c4f7c75246f548299d6ffdac3b67b5cd1</td>\n",
       "      <td>90000</td>\n",
       "      <td>57178423039</td>\n",
       "      <td>21000</td>\n",
       "      <td>\\x57f8ba638903d6335e211eb470159587c73316788880...</td>\n",
       "      <td>0</td>\n",
       "      <td>None</td>\n",
       "      <td>None</td>\n",
       "      <td>0</td>\n",
       "      <td>None</td>\n",
       "      <td>None</td>\n",
       "      <td>\\x87abffa6b80f712c852a9558120ba6611f0b5e46</td>\n",
       "      <td>None</td>\n",
       "      <td>45150000000000000000</td>\n",
       "    </tr>\n",
       "    <tr>\n",
       "      <th>3</th>\n",
       "      <td>None</td>\n",
       "      <td>\\x1f9adc2190701ca3085b28252e4f1f467d980f763dad...</td>\n",
       "      <td>49174</td>\n",
       "      <td>2015-08-07T17:41:03+00:00</td>\n",
       "      <td>None</td>\n",
       "      <td>\\x18e4ce47483b53040adbab35172c01ef64506e0c</td>\n",
       "      <td>90000</td>\n",
       "      <td>58589751415</td>\n",
       "      <td>21000</td>\n",
       "      <td>\\xb8280da44f8d35011c3f431f7d1a82213477a4e742de...</td>\n",
       "      <td>2</td>\n",
       "      <td>None</td>\n",
       "      <td>None</td>\n",
       "      <td>0</td>\n",
       "      <td>None</td>\n",
       "      <td>None</td>\n",
       "      <td>\\xfb26ae2d3621829472555fbd11bb2a324b7a5c57</td>\n",
       "      <td>None</td>\n",
       "      <td>10000000000000000000</td>\n",
       "    </tr>\n",
       "    <tr>\n",
       "      <th>4</th>\n",
       "      <td>None</td>\n",
       "      <td>\\xf1f392fd197a149afe9f8843d7ba759d1a9f79d1ef62...</td>\n",
       "      <td>49938</td>\n",
       "      <td>2015-08-07T21:06:21+00:00</td>\n",
       "      <td>None</td>\n",
       "      <td>\\xc6bf5b6558f2ee21f2e43d9ff9b5408a0cb89413</td>\n",
       "      <td>90000</td>\n",
       "      <td>71214529679</td>\n",
       "      <td>21000</td>\n",
       "      <td>\\x538e1664c12c55287c98dc5dd248f60c642cbbbd7a18...</td>\n",
       "      <td>0</td>\n",
       "      <td>None</td>\n",
       "      <td>None</td>\n",
       "      <td>4</td>\n",
       "      <td>None</td>\n",
       "      <td>None</td>\n",
       "      <td>\\x33a3f479f6c3e7f91128348490d1f7e8d2a0fab5</td>\n",
       "      <td>None</td>\n",
       "      <td>5000000000000000000</td>\n",
       "    </tr>\n",
       "  </tbody>\n",
       "</table>\n",
       "</div>"
      ],
      "text/plain": [
       "  access_list                                         block_hash  \\\n",
       "0        None  \\x887c665b0c52ccace092d817e984e2e828ef59079295...   \n",
       "1        None  \\x4869e218b0a8f5784f16193ac66cbf35c4510ace0c9b...   \n",
       "2        None  \\xab9491b62b16bd928b281a83db82483584c22aeebc0d...   \n",
       "3        None  \\x1f9adc2190701ca3085b28252e4f1f467d980f763dad...   \n",
       "4        None  \\xf1f392fd197a149afe9f8843d7ba759d1a9f79d1ef62...   \n",
       "\n",
       "   block_number                 block_time  data  \\\n",
       "0         47287  2015-08-07T08:50:01+00:00  None   \n",
       "1         48698  2015-08-07T15:29:53+00:00  None   \n",
       "2         49051  2015-08-07T17:03:48+00:00  None   \n",
       "3         49174  2015-08-07T17:41:03+00:00  None   \n",
       "4         49938  2015-08-07T21:06:21+00:00  None   \n",
       "\n",
       "                                         from  gas_limit     gas_price  \\\n",
       "0  \\xdb312d1d6a2ccc64dd94a3892928bac82b4e8c15      21000  100000000000   \n",
       "1  \\x48040276e9c17ddbe5c8d2976245dcd0235efa43      90000   57550496008   \n",
       "2  \\x8686578c4f7c75246f548299d6ffdac3b67b5cd1      90000   57178423039   \n",
       "3  \\x18e4ce47483b53040adbab35172c01ef64506e0c      90000   58589751415   \n",
       "4  \\xc6bf5b6558f2ee21f2e43d9ff9b5408a0cb89413      90000   71214529679   \n",
       "\n",
       "   gas_used                                               hash  index  \\\n",
       "0     21000  \\xd3e6a2fc34066d20bb83020b1ee95b9dc7919fd242bd...      0   \n",
       "1     21000  \\x8ba39f908731171fe96ee4e700e71d170ef8e651fac7...      0   \n",
       "2     21000  \\x57f8ba638903d6335e211eb470159587c73316788880...      0   \n",
       "3     21000  \\xb8280da44f8d35011c3f431f7d1a82213477a4e742de...      2   \n",
       "4     21000  \\x538e1664c12c55287c98dc5dd248f60c642cbbbd7a18...      0   \n",
       "\n",
       "  max_fee_per_gas max_priority_fee_per_gas  nonce priority_fee_per_gas  \\\n",
       "0            None                     None      0                 None   \n",
       "1            None                     None      0                 None   \n",
       "2            None                     None      0                 None   \n",
       "3            None                     None      0                 None   \n",
       "4            None                     None      4                 None   \n",
       "\n",
       "  success                                          to  type  \\\n",
       "0    None  \\x34bb6978c5a1ad68777ad388c6787df53903430c  None   \n",
       "1    None  \\xd8d0549637b65d58e7fb6cbdd11530b399d1ddac  None   \n",
       "2    None  \\x87abffa6b80f712c852a9558120ba6611f0b5e46  None   \n",
       "3    None  \\xfb26ae2d3621829472555fbd11bb2a324b7a5c57  None   \n",
       "4    None  \\x33a3f479f6c3e7f91128348490d1f7e8d2a0fab5  None   \n",
       "\n",
       "                   value  \n",
       "0    1000000000000000000  \n",
       "1  100000000000000000000  \n",
       "2   45150000000000000000  \n",
       "3   10000000000000000000  \n",
       "4    5000000000000000000  "
      ]
     },
     "execution_count": 8,
     "metadata": {},
     "output_type": "execute_result"
    }
   ],
   "source": [
    "created_query.df.head()"
   ]
  },
  {
   "cell_type": "markdown",
   "metadata": {},
   "source": [
    "### Saving to CSV\n",
    "\n",
    "To save a query to a CSV, we can take advantage of the ```to_csv``` method on our ```df```"
   ]
  },
  {
   "cell_type": "code",
   "execution_count": 9,
   "metadata": {},
   "outputs": [],
   "source": [
    "created_query.df.to_csv('my_test_data.csv')"
   ]
  },
  {
   "cell_type": "code",
   "execution_count": null,
   "metadata": {},
   "outputs": [],
   "source": []
  }
 ],
 "metadata": {
  "kernelspec": {
   "display_name": "dev39",
   "language": "python",
   "name": "dev39"
  },
  "language_info": {
   "codemirror_mode": {
    "name": "ipython",
    "version": 3
   },
   "file_extension": ".py",
   "mimetype": "text/x-python",
   "name": "python",
   "nbconvert_exporter": "python",
   "pygments_lexer": "ipython3",
   "version": "3.9.4"
  }
 },
 "nbformat": 4,
 "nbformat_minor": 4
}
